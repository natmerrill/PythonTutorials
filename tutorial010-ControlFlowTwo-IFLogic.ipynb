{
 "cells": [
  {
   "cell_type": "markdown",
   "metadata": {},
   "source": [
    "# Basic control flow in Python II"
   ]
  },
  {
   "cell_type": "markdown",
   "metadata": {},
   "source": [
    "### Learning outcomes:\n",
    " - Understand and use control flow in python\n",
    " - `if`, `else` statements\n",
    " - Comparisons and Logical operators"
   ]
  },
  {
   "cell_type": "markdown",
   "metadata": {},
   "source": [
    "Let's make a thought experiment as a start. Imagine giving yourself, a slightly different different, a robot-like person resembling yourself, instructions to navigate outdoor, away from this room, into the open air and sunshine. \n",
    "\n",
    "You might give yourself instructions to do so, and say things like the following:\n",
    "\n",
    "  - Stand up from desk\n",
    "  - Walk to the door\n",
    "  - *If* the door is closed *then* open the door\n",
    "  - *If* the length of the corridor to the right is shorter than that to the left *then* take the corridor to the right, *else* take corridor to the left\n",
    "  - Continue walking *for* the duration of the corridor\n",
    "  - *While* walking avoid people\n",
    "  - When the end of the corridor is reached open door to the outisde\n",
    "  - Etc.\n",
    "\n",
    "Instructions like the ones above are often needed when programming a complex task, just like navigating the college campus."
   ]
  },
  {
   "cell_type": "markdown",
   "metadata": {},
   "source": [
    "### Control flow"
   ]
  },
  {
   "cell_type": "markdown",
   "metadata": {},
   "source": [
    "**Control flow** comprises of the set of commands available in a programming language to control the flow of information processing, just like the instructions above control your navigation."
   ]
  },
  {
   "cell_type": "markdown",
   "metadata": {},
   "source": [
    "Control flow comprises the set of operations that make sure the set of code operations are executed by a program.  A control flow statement allows the program to make a choice among two or more alternatives.\n",
    "\n",
    "A set of control flow operations are generally organized into blocks with a beginning and an end. The end and beginning of a control flow block is codified by dedicated words, or syntax."
   ]
  },
  {
   "cell_type": "markdown",
   "metadata": {},
   "source": [
    "Control flow is core to all computer programming, not just Python. In this tutorial we are going to get started with control flow and learn about some of the core elements in Python. More specifically we will look at \n",
    "\n",
    "* for and while loops\n",
    "* conditional tests and Boolean logic\n",
    "* control flow\n",
    "* functions\n",
    "\n",
    "We will explore these things using fairly simple examples (that will also give us practice with indexing, operators, Python lists, etc). Later, we will see how useful these core elements are when they are combined!"
   ]
  },
  {
   "cell_type": "markdown",
   "metadata": {},
   "source": [
    "### Control flow: Logical Tests and Boolean Operators"
   ]
  },
  {
   "cell_type": "markdown",
   "metadata": {},
   "source": [
    "Believe it or not, everything that happens on your phone or computer comes down to lots (and I mean **LOTS**) of little decisions based on one or two inputs that can be either \"True\" or \"False\", and an output that can also be \"True\" or \"False\". \n",
    "\n",
    "Seriously, everything on any digitial device – from Tik Tok videos to your Python code – comes down to a whole bunch of truths and falsehoods (ones and zeros) that are themselves the result of decisions based on other truths and falsehoods. The \"decision makers\" are actual physical (but teeny teeny tiny) devices  that are combinations of things called [*transistors*](https://en.wikipedia.org/wiki/Transistor). Transistors perform conditional tests and logical operations on data. \n",
    "\n",
    "Two are the primary operations performed by transistors:\n",
    "\n",
    "* ***Comparison*** operations like `==` (equals) and `>` (greater than) that yield `True` or `False`\n",
    "* ***Logical*** operations that use ***Boolean logic***, which compares two logical inputs and returns `True` or `False` like  `A and B` (`True` only if both A and B are `True`) and `A or B` (`True` if either A or B – or both – are `True`).\n",
    "\n",
    "Let's play with this. It might seem a bit silly and obvious now, but the power of logical tests will reveal itself soon."
   ]
  },
  {
   "cell_type": "markdown",
   "metadata": {},
   "source": [
    "### Comparison operators\n",
    "\n",
    "These are operators that test a single value. Imagine wanting to ask, whether the number of lives my cat has ([9 for what I was told yesterday, when I was born](https://en.wikipedia.org/wiki/Cat#Superstitions_and_rituals)) is different than the number of lives of [Schrödinger's cat](https://en.wikipedia.org/wiki/Schr%C3%B6dinger%27s_cat) has. Number to number type of questions."
   ]
  },
  {
   "cell_type": "markdown",
   "metadata": {},
   "source": [
    "Let's set a variable `x` to 11. (Why only go to ten when you can go to 11?)"
   ]
  },
  {
   "cell_type": "code",
   "execution_count": 1,
   "metadata": {},
   "outputs": [
    {
     "data": {
      "text/plain": [
       "11"
      ]
     },
     "execution_count": 1,
     "metadata": {},
     "output_type": "execute_result"
    }
   ],
   "source": [
    "x = 11\n",
    "x"
   ]
  },
  {
   "cell_type": "markdown",
   "metadata": {},
   "source": [
    "Now let's do some logical tests on our variable `x`. Let's see if `x` is less than `42`."
   ]
  },
  {
   "cell_type": "code",
   "execution_count": 2,
   "metadata": {},
   "outputs": [
    {
     "data": {
      "text/plain": [
       "True"
      ]
     },
     "execution_count": 2,
     "metadata": {},
     "output_type": "execute_result"
    }
   ],
   "source": [
    "x < 42"
   ]
  },
  {
   "cell_type": "markdown",
   "metadata": {},
   "source": [
    "Now you test if `x` is greater than `42`."
   ]
  },
  {
   "cell_type": "code",
   "execution_count": 3,
   "metadata": {},
   "outputs": [
    {
     "data": {
      "text/plain": [
       "False"
      ]
     },
     "execution_count": 3,
     "metadata": {},
     "output_type": "execute_result"
    }
   ],
   "source": [
    "x > 42"
   ]
  },
  {
   "cell_type": "markdown",
   "metadata": {},
   "source": [
    "We can also test for equality. Is `x` equal to `42`?"
   ]
  },
  {
   "cell_type": "code",
   "execution_count": 4,
   "metadata": {},
   "outputs": [
    {
     "data": {
      "text/plain": [
       "False"
      ]
     },
     "execution_count": 4,
     "metadata": {},
     "output_type": "execute_result"
    }
   ],
   "source": [
    "x == 42"
   ]
  },
  {
   "cell_type": "code",
   "execution_count": 5,
   "metadata": {},
   "outputs": [
    {
     "data": {
      "text/plain": [
       "True"
      ]
     },
     "execution_count": 5,
     "metadata": {},
     "output_type": "execute_result"
    }
   ],
   "source": [
    "x == 11"
   ]
  },
  {
   "cell_type": "markdown",
   "metadata": {},
   "source": [
    "Finally, we can test for *inequality*. (We test whether it is true that x is *not* equal to a specific number). "
   ]
  },
  {
   "cell_type": "code",
   "execution_count": 6,
   "metadata": {},
   "outputs": [
    {
     "data": {
      "text/plain": [
       "True"
      ]
     },
     "execution_count": 6,
     "metadata": {},
     "output_type": "execute_result"
    }
   ],
   "source": [
    "x != 42"
   ]
  },
  {
   "cell_type": "markdown",
   "metadata": {},
   "source": [
    "The exclamation point here means \"not\", so the experession `x != 42` can be read as \"is x not equal to 42?\"\n",
    "\n",
    "And the answer is \"That's `True`! The variable `x` is not equal to 42!\""
   ]
  },
  {
   "cell_type": "markdown",
   "metadata": {},
   "source": [
    "$\\color{blue}{\\text{Complete the following exercise.}}$\n",
    "\n",
    "  - Now you test `x` to see if it's not equal to `11`. Is it?\n",
    "\n",
    "  [Use the cell below to show your code]\n"
   ]
  },
  {
   "cell_type": "code",
   "execution_count": 7,
   "metadata": {},
   "outputs": [
    {
     "data": {
      "text/plain": [
       "False"
      ]
     },
     "execution_count": 7,
     "metadata": {},
     "output_type": "execute_result"
    }
   ],
   "source": [
    "x != 11"
   ]
  },
  {
   "cell_type": "markdown",
   "metadata": {},
   "source": [
    "As you might have noticed, all these operations are *built in.* This means that we did not have to import any specific package to access the operations. Python provides these operations as they are core functionality, the bread and butter of most users, or better said, of most programmers. Like you!"
   ]
  },
  {
   "cell_type": "markdown",
   "metadata": {},
   "source": [
    "### Control flow: <if, else> statements"
   ]
  },
  {
   "cell_type": "markdown",
   "metadata": {},
   "source": [
    "Fundamental to any mature software or code system is the ability to express conditional statements such as `if`, `then` statements. These are among the most basic building blocks of coding, as they allow controlling the flow and allowing a certain operations to occur. For example, operation `a` might be performed only `if` a specific condition 'C' is met. Say, I can eat my cake only if I have been diligent and went out for a nice and long run today."
   ]
  },
  {
   "cell_type": "markdown",
   "metadata": {},
   "source": [
    "A couple of basic numerical examples can get us started."
   ]
  },
  {
   "cell_type": "code",
   "execution_count": 8,
   "metadata": {},
   "outputs": [
    {
     "name": "stdout",
     "output_type": "stream",
     "text": [
      "Nope, small!\n"
     ]
    }
   ],
   "source": [
    "x = 3\n",
    "a_big_number = 100\n",
    "\n",
    "if x > 5 :\n",
    "    print('Yes, it is a big number!')\n",
    "else :\n",
    "    print('Nope, small!')"
   ]
  },
  {
   "cell_type": "markdown",
   "metadata": {},
   "source": [
    "We can even add another test using the elif (\"else if\") statement. When measuring the temperature in Austin TX, we would say:"
   ]
  },
  {
   "cell_type": "code",
   "execution_count": 9,
   "metadata": {},
   "outputs": [
    {
     "name": "stdout",
     "output_type": "stream",
     "text": [
      "Just right!\n"
     ]
    }
   ],
   "source": [
    "current_temp = 70\n",
    "\n",
    "if current_temp >= 90 :\n",
    "    print('Too hot!')\n",
    "elif current_temp <= 50 :\n",
    "    print('Too cold!')\n",
    "else :\n",
    "    print('Just right!')"
   ]
  },
  {
   "cell_type": "markdown",
   "metadata": {},
   "source": [
    "`If, then` statements can be combined with logical operators also and help manage complex decisions in a matter of a few lines:"
   ]
  },
  {
   "cell_type": "code",
   "execution_count": 27,
   "metadata": {},
   "outputs": [
    {
     "name": "stdout",
     "output_type": "stream",
     "text": [
      "Too cold! I will take the car or walk.\n"
     ]
    }
   ],
   "source": [
    "current_temp = 45\n",
    "if not( (current_temp >= 90) or (current_temp <= 50) ) : \n",
    "    print('I will ride my bicycle to school!')\n",
    "else :\n",
    "    print('Too cold! I will take the car or walk.')"
   ]
  },
  {
   "cell_type": "markdown",
   "metadata": {},
   "source": [
    "$\\color{blue}{\\text{Complete the following exercise.}}$\n",
    "\n",
    "  - To practice with `if`, `then` statements, write code that when asked if we should eat cake returns `True` only if we have eaten less then 2 slices of cake today and no cake yesterday and the day before yesterday. The code should otherwise tell us to eat soup.\n",
    "  \n",
    "  [Use the cell below to show your code]\n"
   ]
  },
  {
   "cell_type": "code",
   "execution_count": 10,
   "metadata": {},
   "outputs": [
    {
     "name": "stdout",
     "output_type": "stream",
     "text": [
      "No cake for you!\n"
     ]
    }
   ],
   "source": [
    "cake_today = 0\n",
    "cake_yesterday = 1\n",
    "cake_day_before_yesterday = 0\n",
    "\n",
    "sum_cakes = cake_yesterday + cake_day_before_yesterday\n",
    "if ( (sum_cakes < 1) and (cake_today < 2) ) :\n",
    "    print(\"Let's eat some cake!\")\n",
    "else :\n",
    "    print(\"No cake for you!\")\n",
    "\n"
   ]
  },
  {
   "cell_type": "markdown",
   "metadata": {},
   "source": [
    "Again, all these operations are *built in* this means that we did not have to import any specific package. Python provides these basic operations as they are the bread and butter of most users, or better said, of most programmers, like you."
   ]
  },
  {
   "cell_type": "markdown",
   "metadata": {},
   "source": [
    "### Control flow: Logical operators\n",
    "\n",
    "So far we have been dealing with testing operations on single numbers. Often times it is important to be able to test multiple operations and compare them, say if `a > 0` **`and`** `b < 0`.  Operations that compare or combine two statements are called **logical**. Logical operations such as `and` and `or` are extremely important and widely used in computer programming, mathematics, neuroscience and in real life.\n",
    "\n",
    "Python provides binary operations `built in`, so there is not requirement to import a specific library."
   ]
  },
  {
   "cell_type": "markdown",
   "metadata": {},
   "source": [
    "Imagine wanting to compare the number of cake slices eaten per day by the average individual in three different countries."
   ]
  },
  {
   "cell_type": "code",
   "execution_count": 11,
   "metadata": {},
   "outputs": [],
   "source": [
    "# average number of cake slices eaten in \n",
    "USA = 3  # the United States of America\n",
    "IT = 2   # Italy\n",
    "CA = 4   # Canada "
   ]
  },
  {
   "cell_type": "markdown",
   "metadata": {},
   "source": [
    "Imagine wanting to know if BOTH the USA AND Canada eat more cake than Italy. We can first compare if the average citozen eat more cake in Italy or the USA:"
   ]
  },
  {
   "cell_type": "code",
   "execution_count": 12,
   "metadata": {},
   "outputs": [
    {
     "data": {
      "text/plain": [
       "True"
      ]
     },
     "execution_count": 12,
     "metadata": {},
     "output_type": "execute_result"
    }
   ],
   "source": [
    "(USA > IT) "
   ]
  },
  {
   "cell_type": "markdown",
   "metadata": {},
   "source": [
    "Alright, it looks like more cake is eaten in the USA. What about Canada?"
   ]
  },
  {
   "cell_type": "code",
   "execution_count": 13,
   "metadata": {},
   "outputs": [
    {
     "data": {
      "text/plain": [
       "True"
      ]
     },
     "execution_count": 13,
     "metadata": {},
     "output_type": "execute_result"
    }
   ],
   "source": [
    "(CA > IT)"
   ]
  },
  {
   "cell_type": "markdown",
   "metadata": {},
   "source": [
    "If we wanted to compare both the USA and Canada at the same time, in python we could conveniently write the operation as follows: "
   ]
  },
  {
   "cell_type": "code",
   "execution_count": 14,
   "metadata": {},
   "outputs": [
    {
     "data": {
      "text/plain": [
       "True"
      ]
     },
     "execution_count": 14,
     "metadata": {},
     "output_type": "execute_result"
    }
   ],
   "source": [
    "(USA > IT) and (CA > IT)"
   ]
  },
  {
   "cell_type": "markdown",
   "metadata": {},
   "source": [
    "The statment about is *only* true if *both* statements are true. Let's test it."
   ]
  },
  {
   "cell_type": "code",
   "execution_count": 15,
   "metadata": {},
   "outputs": [
    {
     "data": {
      "text/plain": [
       "False"
      ]
     },
     "execution_count": 15,
     "metadata": {},
     "output_type": "execute_result"
    }
   ],
   "source": [
    "# We will use a temporary value for canada and \n",
    "# then repeat the logical operation with the new value\n",
    "CA_temp = 1\n",
    "(USA > IT) and (CA_temp > IT)"
   ]
  },
  {
   "cell_type": "markdown",
   "metadata": {},
   "source": [
    "OK what happened there is that whereas the first statement was true (3 > 2 slices of cake) the second was not true (1 is not more then 2 slices of cake) and the whole statement returned `False`. The `and` operator returns `True` only if all composing statements return `True`."
   ]
  },
  {
   "cell_type": "markdown",
   "metadata": {},
   "source": [
    "Another logical operation of Key value `OR`. `OR` returns `True` if only one of the two statements is`True`, even if the other is `False`. We can try it: "
   ]
  },
  {
   "cell_type": "code",
   "execution_count": 16,
   "metadata": {},
   "outputs": [
    {
     "data": {
      "text/plain": [
       "True"
      ]
     },
     "execution_count": 16,
     "metadata": {},
     "output_type": "execute_result"
    }
   ],
   "source": [
    "CA_temp = 1\n",
    "(USA > IT) or (CA_temp > IT)"
   ]
  },
  {
   "cell_type": "markdown",
   "metadata": {},
   "source": [
    "$\\color{blue}{\\text{Complete the following exercise.}}$\n",
    "\n",
    "  - What do you expect would be the result if you were to run `or` between the original statements:\n",
    "     - `(USA > IT)`\n",
    "     - `(CA > IT)` \n",
    " \n",
    "  [Use the cell below to show your code]\n",
    "  \n",
    "  - What is `CA_temp`?\n",
    "  \n",
    "  [CA_temp = 1]  \n"
   ]
  },
  {
   "cell_type": "code",
   "execution_count": 17,
   "metadata": {},
   "outputs": [
    {
     "data": {
      "text/plain": [
       "True"
      ]
     },
     "execution_count": 17,
     "metadata": {},
     "output_type": "execute_result"
    }
   ],
   "source": [
    "(USA > IT) or (CA > IT)"
   ]
  },
  {
   "cell_type": "markdown",
   "metadata": {},
   "source": [
    "Another helpful operator, often used in similar questions is `not`. The `not` operator is a modifier that changes the value of the output of other operators suchas `>`, `=`, `and`, etc. \n",
    "\n",
    "For example, if `not` is used, the number of slices of cake eaten by the average citizen in Canada is **not** more than those eaten in the USA:"
   ]
  },
  {
   "cell_type": "code",
   "execution_count": 18,
   "metadata": {},
   "outputs": [
    {
     "data": {
      "text/plain": [
       "False"
      ]
     },
     "execution_count": 18,
     "metadata": {},
     "output_type": "execute_result"
    }
   ],
   "source": [
    "not(CA > USA)"
   ]
  },
  {
   "cell_type": "markdown",
   "metadata": {},
   "source": [
    "Whereas this is is obeviously `True`"
   ]
  },
  {
   "cell_type": "code",
   "execution_count": 19,
   "metadata": {},
   "outputs": [
    {
     "data": {
      "text/plain": [
       "True"
      ]
     },
     "execution_count": 19,
     "metadata": {},
     "output_type": "execute_result"
    }
   ],
   "source": [
    "(CA > USA)"
   ]
  },
  {
   "cell_type": "markdown",
   "metadata": {},
   "source": [
    "So, I like to think about `not` as a modifier. It can become useful in many cases, especially when the output of two or more statments needs to be modified (flipped) for the code to advance. For example, the following code shows how three boolean statements (all set to `True`) can be modified but a boolean `not` to save my health."
   ]
  },
  {
   "cell_type": "code",
   "execution_count": 20,
   "metadata": {},
   "outputs": [
    {
     "data": {
      "text/plain": [
       "False"
      ]
     },
     "execution_count": 20,
     "metadata": {},
     "output_type": "execute_result"
    }
   ],
   "source": [
    "# Save my belly\n",
    "ihaveeatencake = True\n",
    "itislatenight = True\n",
    "ididnotexercisetoday = True\n",
    "\n",
    "INeedToEatCake = not(ihaveeatencake and itislatenight and ididnotexercisetoday)\n",
    "INeedToEatCake"
   ]
  },
  {
   "cell_type": "markdown",
   "metadata": {},
   "source": [
    "$\\color{blue}{\\text{Complete the following exercises.}}$\n",
    "\n",
    "  - Write code containing a `for` look that tests the following operations:\n",
    "     - 2 is bigger than 3\n",
    "     - The square of 2 is smaller than the square of 1\n",
    "     - 4 times 5 is not equal to 20 \n",
    " \n",
    " Return all the results during the for loop using `print()`\n",
    " \n",
    "  [Use the cell below to show your code]\n"
   ]
  },
  {
   "cell_type": "code",
   "execution_count": 14,
   "metadata": {},
   "outputs": [
    {
     "name": "stdout",
     "output_type": "stream",
     "text": [
      "...\n",
      "The square root of 2 is greater than the square root of 3\n",
      "4 times 5 is not equal to 20\n",
      "2 is bigger than 3\n",
      ",,,\n",
      "4 times 5 is not equal to 20\n",
      "...\n",
      ",,,\n",
      "nnn\n"
     ]
    }
   ],
   "source": [
    "list_one = [2, 2**0.5, 4*5]\n",
    "    #put the first values from every line into one list\n",
    "list_two = [3, 1**0.5, 20]\n",
    "    #put the second values from every line into another list\n",
    "list_three = [0, 1, 2]\n",
    "        #assign a third list with that is a count (index)\n",
    "for i in list_three :\n",
    "    if (list_one[i] > list_two[i]) :\n",
    "        print(\"2 is bigger than 3\")\n",
    "    else : \n",
    "        print(\"...\")\n",
    "    if (list_one[i] < list_two[i]) :\n",
    "        print(\"The square root of 2 is greater than the square root of 3\")\n",
    "    else : \n",
    "        print(\",,,\")\n",
    "    if (list_one[i] != list_two[i]) : \n",
    "        print(\"4 times 5 is not equal to 20\")\n",
    "    else :\n",
    "        print(\"nnn\")\n",
    "        \n",
    "    \n",
    "    \n",
    "\n",
    "    \n",
    "    \n",
    "    \n",
    "    \n",
    "    \n"
   ]
  },
  {
   "cell_type": "code",
   "execution_count": null,
   "metadata": {},
   "outputs": [],
   "source": []
  },
  {
   "cell_type": "markdown",
   "metadata": {},
   "source": [
    " - Make a new Python list. You can put whatever you want in it. Make it at least 5 items long."
   ]
  },
  {
   "cell_type": "code",
   "execution_count": 17,
   "metadata": {},
   "outputs": [],
   "source": [
    "newlist = [2, 7, 1, 94, 29487]"
   ]
  },
  {
   "cell_type": "markdown",
   "metadata": {},
   "source": [
    " - Get the first element of your new list."
   ]
  },
  {
   "cell_type": "code",
   "execution_count": 18,
   "metadata": {},
   "outputs": [
    {
     "data": {
      "text/plain": [
       "2"
      ]
     },
     "execution_count": 18,
     "metadata": {},
     "output_type": "execute_result"
    }
   ],
   "source": [
    "newlist[0]"
   ]
  },
  {
   "cell_type": "markdown",
   "metadata": {},
   "source": [
    " - Get the last element of your new list in a way that wouldn't depend on list length."
   ]
  },
  {
   "cell_type": "code",
   "execution_count": 19,
   "metadata": {},
   "outputs": [
    {
     "data": {
      "text/plain": [
       "29487"
      ]
     },
     "execution_count": 19,
     "metadata": {},
     "output_type": "execute_result"
    }
   ],
   "source": [
    "newlist[4]"
   ]
  },
  {
   "cell_type": "markdown",
   "metadata": {},
   "source": [
    " - Get all but the last two elements in a way that wouldn't depend on list length."
   ]
  },
  {
   "cell_type": "code",
   "execution_count": 20,
   "metadata": {},
   "outputs": [
    {
     "data": {
      "text/plain": [
       "(2, 7)"
      ]
     },
     "execution_count": 20,
     "metadata": {},
     "output_type": "execute_result"
    }
   ],
   "source": [
    "newlist[0:2]"
   ]
  },
  {
   "cell_type": "markdown",
   "metadata": {},
   "source": [
    " - Get every other element of your list."
   ]
  },
  {
   "cell_type": "code",
   "execution_count": 25,
   "metadata": {},
   "outputs": [
    {
     "name": "stdout",
     "output_type": "stream",
     "text": [
      "2\n",
      "1\n",
      "29487\n"
     ]
    }
   ],
   "source": [
    "print(newlist[0])\n",
    "print(newlist[2])\n",
    "print(newlist[4])"
   ]
  },
  {
   "cell_type": "markdown",
   "metadata": {},
   "source": [
    "$\\color{blue}{\\text{Complete the following exercises.}}$\n",
    "\n",
    " - Use Markdown to make a table and list all the steps necessary to get the new tutorial every class from github, work on it during class and submit the answers to the exercises in the tutorials. Each rown of the table should have a new step. In the first column the table should list the name of the operation, in the second the command used (the full command-line operation executed), in the third where the work is being done (on the cloud, locally on your computer, in a terminal, etc), in the last column there should be a verbal description of what the operation does. "
   ]
  },
  {
   "cell_type": "markdown",
   "metadata": {},
   "source": [
    "| Step Number | Operation Name | Operation Command | Operation Location | Description |\n",
    "| --- | --- | --- | --- | --- |\n",
    "| 1 | Sync | Sync Fork | github.com/natmerrill/FDS-CourseOne | Updates the local files within FDS-CourseOne |\n",
    "| 2 | Navigate 1 | cd ~ | local terminal | navigates to general directory |\n",
    "| 3 | Navigate 2 | cd Desktop | local terminal | navigate to the directory titled 'Desktop' |\n",
    "| 4 | Navigate 3 | cd git | local terminal | navigate to the directory titled 'git' |\n",
    "| 5 | Navigate 4 | cd FDS-CourseOne | local terminal | navigate to the repository titled 'FDS-CourseOne' |\n",
    "| 6 | Copy Verbose | cp -v tutorialX ../PythonTutorials | local terminal | saves Tutorial X two files up in python tutorials |\n",
    "| 7 | Navigate to Python Tutorials | cd ../PythonTutorials | local terminal | navigates to the repository 'PythonTutorials' |\n",
    "| 8 | Add Tutorial | git add TutorialX | local terminal | adds Tutorial X to the PythonTutorials repository |\n",
    "| 9| Commit | git commit -am \"I just added Tutorial X\" | local terminal | commits Tutorial X to the repository PythonTutorials with the message in quotes |\n",
    "| 10 | Push | git push | local terminal | pushes the local activity just completed to the PythonTutorials folder in the cloud on github |\n",
    "| 11 | Tutorial | N/A | Jupyter Notebook | complete the tutorial |\n",
    "| 12 | Commit again | git commit -am \"I just completed tutorial X\" | local terminal | commits the completed tutorial to the local files with the message in quotes |\n",
    "| 13 | Push | git push | local terminal | pushes the local version of tutorial X to the cloud on github |"
   ]
  },
  {
   "cell_type": "markdown",
   "metadata": {},
   "source": []
  }
 ],
 "metadata": {
  "kernelspec": {
   "display_name": "Python 3",
   "language": "python",
   "name": "python3"
  },
  "language_info": {
   "codemirror_mode": {
    "name": "ipython",
    "version": 3
   },
   "file_extension": ".py",
   "mimetype": "text/x-python",
   "name": "python",
   "nbconvert_exporter": "python",
   "pygments_lexer": "ipython3",
   "version": "3.8.3"
  }
 },
 "nbformat": 4,
 "nbformat_minor": 5
}
