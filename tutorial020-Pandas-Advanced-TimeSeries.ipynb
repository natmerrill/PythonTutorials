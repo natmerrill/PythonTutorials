{
 "cells": [
  {
   "cell_type": "markdown",
   "metadata": {},
   "source": [
    "# Time and Date Series in Python and Pandas I"
   ]
  },
  {
   "cell_type": "markdown",
   "metadata": {},
   "source": [
    "This tutorial will provide an overview of some of the functionality Python, NumPy and Pandas offer to manipulate time series, and date, time objects. The tutorial is meant to be an introduction and it will not be exhaustive in the treatment of the exstensive functionality offered by the python libraries. "
   ]
  },
  {
   "cell_type": "markdown",
   "metadata": {},
   "source": [
    "#### Learning goals\n",
    "\n",
    "  - `Python` - Date and Time objects\n",
    "  - `NumPy` - Date and Time objects\n",
    "  - `Pandas` - Date and Time objects\n",
    "  \n",
    "#### Prerequisites\n",
    "  - Python and NumPy\n",
    "  - Pandas, DataFrames and Series\n",
    "  \n",
    " ---"
   ]
  },
  {
   "cell_type": "markdown",
   "metadata": {},
   "source": [
    "## Python time and dates"
   ]
  },
  {
   "cell_type": "markdown",
   "metadata": {},
   "source": [
    "Python offers a series of core and additional functions dealing with time, time zones, calendars, etc. \n",
    "\n",
    "These modules come standard with Python3. The modules mostly provide access to the Linux/Unix (or Windows) OS time-oriented functionality.\n",
    "\n",
    "| Module Name | Description | Usage |\n",
    "| --- | --- | --- |\n",
    "| [Time](https://docs.python.org/3/library/time.html#module-time) | This module provides various time-related functions. | `import time` |\n",
    "| [datetime](https://docs.python.org/3/library/datetime.html#module-datetime) | This module supplies classes for manipulating dates and times. | `import datetime` |\n",
    "| [Calendar](https://docs.python.org/3/library/calendar.html#module-calendar) | This module allows you to output calendars like the Unix cal program, and provides additional useful functions related to the calendar. | `import calendar` |\n",
    "|[Zoneinfo](https://docs.python.org/3/library/zoneinfo.html#module-zoneinfo) | A time zone implementation interfacing with the system’s time zone data (if available e.g. Unix/Linux; see also [PEP 615](https://peps.python.org/pep-0615/)). | ` import zoneinfo` |\n",
    "\n",
    "Although we will cover some of the functionality in these python modules, an exhustive coverage of the functionality of these python modules is beyond the scope of the current tutorial. That said below the list of modules pertaining with time and date operations and data.\n",
    "\n",
    "---"
   ]
  },
  {
   "cell_type": "markdown",
   "metadata": {},
   "source": [
    "### Python Core Time Objects"
   ]
  },
  {
   "cell_type": "markdown",
   "metadata": {},
   "source": [
    "The core functionality of time events in Python can be accessed using `time` and `datetime`. \n",
    "\n",
    "For example, we can import `datetime` and access my date of birth we could easily access it (if you were to know the correct one) use syntax as follows:"
   ]
  },
  {
   "cell_type": "code",
   "execution_count": 1,
   "metadata": {},
   "outputs": [
    {
     "name": "stdout",
     "output_type": "stream",
     "text": [
      "1985-11-15 11:36:55\n"
     ]
    }
   ],
   "source": [
    "from datetime import datetime\n",
    "\n",
    "my_birthdate = datetime(year=1985, \n",
    "              month=11, \n",
    "              day=15, \n",
    "              hour=11, \n",
    "              minute=36, \n",
    "              second=55)\n",
    "print(my_birthdate)"
   ]
  },
  {
   "cell_type": "markdown",
   "metadata": {},
   "source": [
    "As you can see above, `datetime` allows addressing years, months, days, etc. just like properties of objects. The output variables are well formatted strings. \n",
    "\n",
    "The months, days, hours and minutes are formatted in ways that we are generally used to, the 'look good'. The formatting used by `datetime` is called [ISO 8601 format](https://en.wikipedia.org/wiki/ISO_8601) (it follows this syntax: `YYYY-MM-DDTHH:MM:SS. mmmmmm`).\n",
    "\n",
    "---"
   ]
  },
  {
   "cell_type": "markdown",
   "metadata": {},
   "source": [
    "$\\color{blue}{\\text{Complete the following exercise.}}$\n",
    "\n",
    "  Use the cell below to `print` your own date of birth using the method seen above."
   ]
  },
  {
   "cell_type": "code",
   "execution_count": 3,
   "metadata": {},
   "outputs": [
    {
     "name": "stdout",
     "output_type": "stream",
     "text": [
      "1998-08-06 09:47:32\n"
     ]
    }
   ],
   "source": [
    "nat_birthdate = datetime(year=1998,\n",
    "                        month=8,\n",
    "                        day=6,\n",
    "                        hour=9,\n",
    "                        minute=47,\n",
    "                        second=32)\n",
    "print(nat_birthdate)"
   ]
  },
  {
   "cell_type": "markdown",
   "metadata": {},
   "source": [
    "**`time` is also part of python's core functionality.**\n",
    "\n",
    "It provides a more fexible, yet more complex, less object-oriented and less data-science friendly interface. "
   ]
  },
  {
   "cell_type": "markdown",
   "metadata": {},
   "source": [
    "For example, if we wanted to get a date and time (say the current time) using `time`, we would need to first import two modules, `gmtime` to get the time and `strftime` to format the time."
   ]
  },
  {
   "cell_type": "markdown",
   "metadata": {},
   "source": [
    "`gmtime` would allow extracting the information about the current time."
   ]
  },
  {
   "cell_type": "code",
   "execution_count": 4,
   "metadata": {},
   "outputs": [
    {
     "data": {
      "text/plain": [
       "time.struct_time(tm_year=2022, tm_mon=11, tm_mday=29, tm_hour=15, tm_min=42, tm_sec=40, tm_wday=1, tm_yday=333, tm_isdst=0)"
      ]
     },
     "execution_count": 4,
     "metadata": {},
     "output_type": "execute_result"
    }
   ],
   "source": [
    "from time import gmtime, strftime\n",
    "gmtime()"
   ]
  },
  {
   "cell_type": "markdown",
   "metadata": {},
   "source": [
    "As you can appreciate, the output is not nicely formatted. At least not as nicely formatted using the ISO 8601 standard as seen above in the output of `datetime`."
   ]
  },
  {
   "cell_type": "markdown",
   "metadata": {},
   "source": [
    "We can format the output with some additional work, using `strftime()`. For example, "
   ]
  },
  {
   "cell_type": "code",
   "execution_count": 5,
   "metadata": {},
   "outputs": [
    {
     "data": {
      "text/plain": [
       "'Tue, 29 Nov 2022 15:42:50 +0000'"
      ]
     },
     "execution_count": 5,
     "metadata": {},
     "output_type": "execute_result"
    }
   ],
   "source": [
    "strftime(\"%a, %d %b %Y %H:%M:%S +0000\", gmtime())"
   ]
  },
  {
   "cell_type": "markdown",
   "metadata": {},
   "source": [
    "The type of the time value sequence returned by `gmtime()`  It is an object with a named tuple interface with following values that can be accessed by index and by attribute name. The following values are present:\n",
    "\n",
    "| Index | Attribute | Values |\n",
    "| --- | --- | --- | \n",
    "| 0 | tm_year | (for example, 1993) |\n",
    "| 1 | tm_mon | range [1, 12] |\n",
    "| 2 | tm_mday | range [1, 31] |\n",
    "| 3 | tm_hour | range [0, 23] |\n",
    "| 4 | tm_min | range [0, 59] |\n",
    "| 5 | tm_sec | range [0, 61]; see (2) in strftime() description |\n",
    "| 6 | tm_wday | range [0, 6], Monday is 0 |\n",
    "| 7 | tm_yday | range [1, 366] |\n",
    "| 8 | tm_isdst | 0, 1 or -1; see below |\n",
    "| N/A | tm_zone | abbreviation of timezone name |\n",
    "| N/A | tm_gmtoff | offset east of UTC in seconds| "
   ]
  },
  {
   "cell_type": "markdown",
   "metadata": {},
   "source": [
    "$\\color{blue}{\\text{Complete the following exercise.}}$\n",
    "\n",
    " - Try, returning the values into a variable (say `vals`) and access them as previously learned (hint, `vals.<val_name>`):"
   ]
  },
  {
   "cell_type": "code",
   "execution_count": 9,
   "metadata": {},
   "outputs": [
    {
     "name": "stdout",
     "output_type": "stream",
     "text": [
      "time.struct_time(tm_year=2022, tm_mon=11, tm_mday=29, tm_hour=15, tm_min=47, tm_sec=58, tm_wday=1, tm_yday=333, tm_isdst=0)\n"
     ]
    }
   ],
   "source": [
    "vals = gmtime()\n",
    "print(vals)"
   ]
  },
  {
   "cell_type": "markdown",
   "metadata": {},
   "source": [
    "`gmtime()` returns time for `Greenwich Mean Time (GMT)` that is a standard timezone in the UK. Given that Austin, TX is currently in CDT. We could return the current hour in Austin by adding the 5 hours different. \n",
    "\n",
    "For example:"
   ]
  },
  {
   "cell_type": "code",
   "execution_count": 10,
   "metadata": {},
   "outputs": [
    {
     "name": "stdout",
     "output_type": "stream",
     "text": [
      "Time in Greenwhich, UK:  15\n",
      "Time in Austin, TX:  10\n"
     ]
    }
   ],
   "source": [
    "vals = gmtime()\n",
    "\n",
    "theHourInGreenwichUK = vals.tm_hour\n",
    "print('Time in Greenwhich, UK: ', theHourInGreenwichUK)\n",
    "\n",
    "theHourInAustinTX = theHourInGreenwichUK - 5\n",
    "print('Time in Austin, TX: ', theHourInAustinTX)"
   ]
  },
  {
   "cell_type": "markdown",
   "metadata": {},
   "source": [
    "So, informastion can be extracted, yet, it takes some work and knowledge to get it out. It would be convenient to have easier ways to manipulate dates more explicitely."
   ]
  },
  {
   "cell_type": "markdown",
   "metadata": {},
   "source": [
    "$\\color{blue}{\\text{Complete the following exercise.}}$\n",
    "\n",
    " - Print the current time in San Diego (CA)"
   ]
  },
  {
   "cell_type": "code",
   "execution_count": 14,
   "metadata": {},
   "outputs": [
    {
     "name": "stdout",
     "output_type": "stream",
     "text": [
      "The time in San Diego is 13 hours and 55 minutes.\n"
     ]
    }
   ],
   "source": [
    "vals = gmtime()\n",
    "ATXhour = vals.tm_hour\n",
    "allmin = vals.tm_min\n",
    "SDhour = ATXhour - 2\n",
    "print('The time in San Diego is', SDhour, 'hours and', allmin, 'minutes.')"
   ]
  },
  {
   "cell_type": "markdown",
   "metadata": {},
   "source": [
    "#### A note about Naive and Aware objects.\n",
    "\n",
    "Objects pertaining time and dates depend on geographical position and time zones. Time zones could be day-light savings, e.g., CDT for Austin, TX or standard, e.g., CST for Austin, TX. \n",
    "\n",
    "Two types of objects exist in python:\n",
    "  - Aware Objects - Objects are called `aware` when they can locate themselves relative to other aware objects. Aware objects represent a specific moment in time that is not open to interpretation.\n",
    "\n",
    "  - Naive Objects - A naive objects do not contain enough information to unambiguously locate themselves relative to other date/time objects. Whether a naive object represents Coordinated Universal Time (UTC), local time, or time in some other timezone is purely up to the program, just like it is up to the program whether a particular number represents metres, miles, or mass. \n",
    "  \n",
    "  \n",
    "The outputs on `datetime` are `time` are naive by default. Optional calls to `timezone` can be made to make the objects aware. See [here](https://docs.python.org/3/library/datetime.html) for more information about Naive and Aware time objects."
   ]
  },
  {
   "cell_type": "markdown",
   "metadata": {},
   "source": [
    "The functionality of `datetime` and `time` is exstensive as they allow advance and flexible manipulation of events, timing and calendars. The goal of this tutorial is to get you started and provide an overview of methods available to access time and date information. \n",
    "\n",
    "One limitation of of the core function for time manipulation in python is the inability to handle large arrays of dates and times. This is an important feature, especially for data science applications where often times arrays can reach a large size. \n",
    "\n",
    "This issue is similar to the issue we have encountered before, where the standard lists in Python are limited in their ability to support advanced numerical operations. \n",
    "\n",
    "---"
   ]
  },
  {
   "cell_type": "markdown",
   "metadata": {},
   "source": [
    "## NumPy objects for date and time"
   ]
  },
  {
   "cell_type": "markdown",
   "metadata": {},
   "source": [
    "As we learned in previous tutorials, NumPy addressed the needs of the community to handle large datasets by providing the ability to store large variables into computable objects. \n",
    "\n",
    "Also for time and date functionality, NumPy added to the set of native date and time python functions, a set of additional functions to handle large objects, manipulate and perform numerical operations. \n",
    "\n",
    "\n",
    "The functions NumPy added build on top of two NumPy objects:\n",
    "  \n",
    "  - `datetime64` - \n",
    "  - `timedelta64`\n",
    "  \n",
    "`datetime64` and `timedelta64` encodes dates as 64-bit integers, array operator. This allows the data stored as a date to be much larger than the basic python date and time variables and allows them to be computable.\n",
    "\n",
    "---"
   ]
  },
  {
   "cell_type": "markdown",
   "metadata": {},
   "source": [
    "A NumPy `datetime64` variable can be usig very specific formats for example:"
   ]
  },
  {
   "cell_type": "code",
   "execution_count": 15,
   "metadata": {},
   "outputs": [
    {
     "name": "stdout",
     "output_type": "stream",
     "text": [
      "ISO format < 1985-11-15 >\n"
     ]
    }
   ],
   "source": [
    "import numpy as np\n",
    "date = np.array('1985-11-15', dtype=np.datetime64)\n",
    "print('ISO format <', date, '>')"
   ]
  },
  {
   "cell_type": "markdown",
   "metadata": {},
   "source": [
    "Note that the NumPy arrays requires a very specific format as input: 'YYYY-MM-DD'. This is the most basic way to create datetimes array using an ISO 8601 date or datetime format."
   ]
  },
  {
   "cell_type": "markdown",
   "metadata": {},
   "source": [
    "This new object is though fundamentally different than any of the previously encountered data, time objects in python. For example, we can perform direct computations using this object (datetime in NumPy works with most NumPy operations such as `arange`). \n",
    "\n",
    "Hereafter we add numbers in the range between [0-11] to the days in the original date and replicate the entry in the array in a single operation:"
   ]
  },
  {
   "cell_type": "code",
   "execution_count": 16,
   "metadata": {},
   "outputs": [
    {
     "data": {
      "text/plain": [
       "array(['1985-11-15', '1985-11-16', '1985-11-17', '1985-11-18',\n",
       "       '1985-11-19', '1985-11-20', '1985-11-21', '1985-11-22',\n",
       "       '1985-11-23', '1985-11-24', '1985-11-25', '1985-11-26'],\n",
       "      dtype='datetime64[D]')"
      ]
     },
     "execution_count": 16,
     "metadata": {},
     "output_type": "execute_result"
    }
   ],
   "source": [
    "date + np.arange(12)"
   ]
  },
  {
   "cell_type": "markdown",
   "metadata": {},
   "source": [
    "$\\color{blue}{\\text{Complete the following exercise.}}$\n",
    "\n",
    " - Create a variable `date` with your date of birth (as dtype=np.datetime64) and add to your current age to it. Print the result:"
   ]
  },
  {
   "cell_type": "code",
   "execution_count": 30,
   "metadata": {},
   "outputs": [
    {
     "name": "stdout",
     "output_type": "stream",
     "text": [
      "1998-08-30\n"
     ]
    }
   ],
   "source": [
    "date = np.array('1998-08-06', dtype=np.datetime64)\n",
    "\n",
    "today = date + 24\n",
    "print(today)"
   ]
  },
  {
   "cell_type": "markdown",
   "metadata": {},
   "source": [
    "A range of days can be specified at definition to when creating an array:"
   ]
  },
  {
   "cell_type": "code",
   "execution_count": 25,
   "metadata": {},
   "outputs": [
    {
     "name": "stdout",
     "output_type": "stream",
     "text": [
      "All days in two months ['2020-02-01' '2020-02-02' '2020-02-03' '2020-02-04' '2020-02-05'\n",
      " '2020-02-06' '2020-02-07' '2020-02-08' '2020-02-09' '2020-02-10'\n",
      " '2020-02-11' '2020-02-12' '2020-02-13' '2020-02-14' '2020-02-15'\n",
      " '2020-02-16' '2020-02-17' '2020-02-18' '2020-02-19' '2020-02-20'\n",
      " '2020-02-21' '2020-02-22' '2020-02-23' '2020-02-24' '2020-02-25'\n",
      " '2020-02-26' '2020-02-27' '2020-02-28' '2020-02-29' '2020-03-01'\n",
      " '2020-03-02' '2020-03-03' '2020-03-04' '2020-03-05' '2020-03-06'\n",
      " '2020-03-07' '2020-03-08' '2020-03-09' '2020-03-10' '2020-03-11'\n",
      " '2020-03-12' '2020-03-13' '2020-03-14' '2020-03-15' '2020-03-16'\n",
      " '2020-03-17' '2020-03-18' '2020-03-19' '2020-03-20' '2020-03-21'\n",
      " '2020-03-22' '2020-03-23' '2020-03-24' '2020-03-25' '2020-03-26'\n",
      " '2020-03-27' '2020-03-28' '2020-03-29' '2020-03-30' '2020-03-31']\n"
     ]
    }
   ],
   "source": [
    "daysInTwoMonths = np.arange('2020-02', '2020-04', dtype='datetime64[D]')\n",
    "\n",
    "print('All days in two months', daysInTwoMonths)"
   ]
  },
  {
   "cell_type": "markdown",
   "metadata": {},
   "source": [
    "$\\color{blue}{\\text{Complete the following exercise.}}$\n",
    "\n",
    " - Question 1: Does NumPy treat \"February' properly?"
   ]
  },
  {
   "cell_type": "markdown",
   "metadata": {},
   "source": [
    "Numpy does treat February properly as long as you refer to it in the correct format; the month has 29 days (2020 was a leap year)"
   ]
  },
  {
   "cell_type": "markdown",
   "metadata": {},
   "source": [
    " - Question 2: Does it deal with leap years?"
   ]
  },
  {
   "cell_type": "markdown",
   "metadata": {},
   "source": [
    "It does deal with leap years: there are 29 days in the month"
   ]
  },
  {
   "cell_type": "markdown",
   "metadata": {},
   "source": [
    "In the short overview of NumPy above we have seen that it made two fundamental improvements over the more basic ways to access date and time information in python:\n",
    "  - First it allowed handling larger arrays\n",
    "  - Second it made the date and time arrays computable, just like the other objects in NumPy"
   ]
  },
  {
   "cell_type": "markdown",
   "metadata": {},
   "source": [
    "---\n",
    "## Pandas Time Series\n",
    "\n",
    "As discussed in previous tutorials, Pandas was developed to handle data from investment banking. A key aspect of the data types that investment banking have to deal with is time series; data tht varies across actual time (seconds, minutes, hours, days, weeks, months and years).\n",
    "\n",
    "Because of this, Pandas comes with abundant functionality to deal with time series, time events and computations. The Pandas time series functionality leverages what we have alredy discussed about the library *indexes*, *series* and *data frames* and builts on top of python's own time functions."
   ]
  },
  {
   "cell_type": "markdown",
   "metadata": {},
   "source": [
    "Whereas Python allows accessing fundamental time and date information from the operative system and NumPy turns the time and date objects into computable data, Pandas improves this functionality to build full-time series tables and objects."
   ]
  },
  {
   "cell_type": "markdown",
   "metadata": {},
   "source": [
    "Pandas consolidated functionality from the basic python libraries as well as NumPy (as well as scikits.timeseries). In doing so, Pandas has also created new functionality for manipulating time series data. Pandas Organizes and provides a cohesive interface to call NumPy and Python core time functions."
   ]
  },
  {
   "cell_type": "markdown",
   "metadata": {},
   "source": [
    "---\n",
    "\n",
    "Pandas builds upon the following objects:\n",
    "  - Python's `datetime` (as well as `dateutil`)\n",
    "  - NumPy's `datetime64`\n",
    "  - Pandas'\n",
    "    - `Timestamp`\n",
    "    - `DatetimeIndex`\n",
    "    - `Series`\n",
    "    - `DataFrame`\n",
    "\n",
    "---\n",
    "\n",
    "Hereafer, we will dig into a few of the features pandas has to offer!"
   ]
  },
  {
   "cell_type": "markdown",
   "metadata": {},
   "source": [
    "### Pandas basic time an date objects\n",
    "\n",
    "The fundamental objects dealing with time series in Pandas is `Timestamp`. The object can be created from heterogeneous input data formats, that are more user friendly. \n",
    "\n",
    "This means that the same Timestamp can be created from differently formatted inputs. Pandas' will interpret the different formatting and map them to appropriate datetime objects (with some limits of course):"
   ]
  },
  {
   "cell_type": "code",
   "execution_count": 31,
   "metadata": {},
   "outputs": [],
   "source": [
    "import pandas as pd\n",
    "import numpy as np"
   ]
  },
  {
   "cell_type": "code",
   "execution_count": 32,
   "metadata": {},
   "outputs": [
    {
     "name": "stdout",
     "output_type": "stream",
     "text": [
      "Output from \"15th of November, 1985\" 1985-11-15 00:00:00\n"
     ]
    }
   ],
   "source": [
    "date = pd.to_datetime(\"15th of November, 1985\")\n",
    "date\n",
    "print('Output from \"15th of November, 1985\"', date)"
   ]
  },
  {
   "cell_type": "code",
   "execution_count": 33,
   "metadata": {},
   "outputs": [
    {
     "name": "stdout",
     "output_type": "stream",
     "text": [
      "Output from \"November 15, 2015\"      1985-11-15 00:00:00\n"
     ]
    }
   ],
   "source": [
    "date = pd.to_datetime(\"November 15, 1985\")\n",
    "print('Output from \"November 15, 2015\"     ', date)"
   ]
  },
  {
   "cell_type": "markdown",
   "metadata": {},
   "source": [
    "$\\color{blue}{\\text{Complete the following exercise.}}$\n",
    "\n",
    " - Use pandas' `.to_datetime` to create a your birthdate and print it using the cell below"
   ]
  },
  {
   "cell_type": "code",
   "execution_count": 34,
   "metadata": {},
   "outputs": [
    {
     "name": "stdout",
     "output_type": "stream",
     "text": [
      "1998-08-06 00:00:00\n"
     ]
    }
   ],
   "source": [
    "my_birthday = pd.to_datetime(\"August 6, 1998\")\n",
    "print(my_birthday)"
   ]
  },
  {
   "cell_type": "markdown",
   "metadata": {},
   "source": [
    "Another example of the flexibility of Pandas' interpretation of inputs:"
   ]
  },
  {
   "cell_type": "code",
   "execution_count": 35,
   "metadata": {},
   "outputs": [
    {
     "data": {
      "text/plain": [
       "DatetimeIndex(['1985-11-15', '1985-11-14', '1985-11-15', '1985-07-11',\n",
       "               '1985-11-08'],\n",
       "              dtype='datetime64[ns]', freq=None)"
      ]
     },
     "execution_count": 35,
     "metadata": {},
     "output_type": "execute_result"
    }
   ],
   "source": [
    "date1 = pd.to_datetime([datetime(1985, 11, 15), '14th of November, 1985',\n",
    "                       '1985-Nov-15', '07-11-1985', '19851108'])\n",
    "date1"
   ]
  },
  {
   "cell_type": "markdown",
   "metadata": {},
   "source": [
    "All above diverse formats have been interpreted correctly.  Instead, the following odd formatting will fail, because Pandas will not be prepared to parse it:"
   ]
  },
  {
   "cell_type": "code",
   "execution_count": 36,
   "metadata": {},
   "outputs": [
    {
     "ename": "ParserError",
     "evalue": "Unknown string format: November 15 : 1985",
     "output_type": "error",
     "traceback": [
      "\u001b[0;31m---------------------------------------------------------------------------\u001b[0m",
      "\u001b[0;31mTypeError\u001b[0m                                 Traceback (most recent call last)",
      "\u001b[0;32m/opt/anaconda3/lib/python3.8/site-packages/pandas/core/arrays/datetimes.py\u001b[0m in \u001b[0;36mobjects_to_datetime64ns\u001b[0;34m(data, dayfirst, yearfirst, utc, errors, require_iso8601, allow_object)\u001b[0m\n\u001b[1;32m   1857\u001b[0m         \u001b[0;32mtry\u001b[0m\u001b[0;34m:\u001b[0m\u001b[0;34m\u001b[0m\u001b[0;34m\u001b[0m\u001b[0m\n\u001b[0;32m-> 1858\u001b[0;31m             \u001b[0mvalues\u001b[0m\u001b[0;34m,\u001b[0m \u001b[0mtz_parsed\u001b[0m \u001b[0;34m=\u001b[0m \u001b[0mconversion\u001b[0m\u001b[0;34m.\u001b[0m\u001b[0mdatetime_to_datetime64\u001b[0m\u001b[0;34m(\u001b[0m\u001b[0mdata\u001b[0m\u001b[0;34m)\u001b[0m\u001b[0;34m\u001b[0m\u001b[0;34m\u001b[0m\u001b[0m\n\u001b[0m\u001b[1;32m   1859\u001b[0m             \u001b[0;31m# If tzaware, these values represent unix timestamps, so we\u001b[0m\u001b[0;34m\u001b[0m\u001b[0;34m\u001b[0m\u001b[0;34m\u001b[0m\u001b[0m\n",
      "\u001b[0;32mpandas/_libs/tslibs/conversion.pyx\u001b[0m in \u001b[0;36mpandas._libs.tslibs.conversion.datetime_to_datetime64\u001b[0;34m()\u001b[0m\n",
      "\u001b[0;31mTypeError\u001b[0m: Unrecognized value type: <class 'str'>",
      "\nDuring handling of the above exception, another exception occurred:\n",
      "\u001b[0;31mParserError\u001b[0m                               Traceback (most recent call last)",
      "\u001b[0;32m<ipython-input-36-33ecacb0eda1>\u001b[0m in \u001b[0;36m<module>\u001b[0;34m\u001b[0m\n\u001b[0;32m----> 1\u001b[0;31m \u001b[0mdate2\u001b[0m \u001b[0;34m=\u001b[0m \u001b[0mpd\u001b[0m\u001b[0;34m.\u001b[0m\u001b[0mto_datetime\u001b[0m\u001b[0;34m(\u001b[0m\u001b[0;34m\"November 15 : 1985\"\u001b[0m\u001b[0;34m)\u001b[0m\u001b[0;34m\u001b[0m\u001b[0;34m\u001b[0m\u001b[0m\n\u001b[0m\u001b[1;32m      2\u001b[0m \u001b[0mprint\u001b[0m\u001b[0;34m(\u001b[0m\u001b[0;34m'Output from \"November 15 : 1985\"     '\u001b[0m\u001b[0;34m,\u001b[0m \u001b[0mdate2\u001b[0m\u001b[0;34m)\u001b[0m\u001b[0;34m\u001b[0m\u001b[0;34m\u001b[0m\u001b[0m\n",
      "\u001b[0;32m/opt/anaconda3/lib/python3.8/site-packages/pandas/core/tools/datetimes.py\u001b[0m in \u001b[0;36mto_datetime\u001b[0;34m(arg, errors, dayfirst, yearfirst, utc, format, exact, unit, infer_datetime_format, origin, cache)\u001b[0m\n\u001b[1;32m    754\u001b[0m             \u001b[0mresult\u001b[0m \u001b[0;34m=\u001b[0m \u001b[0mconvert_listlike\u001b[0m\u001b[0;34m(\u001b[0m\u001b[0marg\u001b[0m\u001b[0;34m,\u001b[0m \u001b[0mformat\u001b[0m\u001b[0;34m)\u001b[0m\u001b[0;34m\u001b[0m\u001b[0;34m\u001b[0m\u001b[0m\n\u001b[1;32m    755\u001b[0m     \u001b[0;32melse\u001b[0m\u001b[0;34m:\u001b[0m\u001b[0;34m\u001b[0m\u001b[0;34m\u001b[0m\u001b[0m\n\u001b[0;32m--> 756\u001b[0;31m         \u001b[0mresult\u001b[0m \u001b[0;34m=\u001b[0m \u001b[0mconvert_listlike\u001b[0m\u001b[0;34m(\u001b[0m\u001b[0mnp\u001b[0m\u001b[0;34m.\u001b[0m\u001b[0marray\u001b[0m\u001b[0;34m(\u001b[0m\u001b[0;34m[\u001b[0m\u001b[0marg\u001b[0m\u001b[0;34m]\u001b[0m\u001b[0;34m)\u001b[0m\u001b[0;34m,\u001b[0m \u001b[0mformat\u001b[0m\u001b[0;34m)\u001b[0m\u001b[0;34m[\u001b[0m\u001b[0;36m0\u001b[0m\u001b[0;34m]\u001b[0m\u001b[0;34m\u001b[0m\u001b[0;34m\u001b[0m\u001b[0m\n\u001b[0m\u001b[1;32m    757\u001b[0m \u001b[0;34m\u001b[0m\u001b[0m\n\u001b[1;32m    758\u001b[0m     \u001b[0;32mreturn\u001b[0m \u001b[0mresult\u001b[0m\u001b[0;34m\u001b[0m\u001b[0;34m\u001b[0m\u001b[0m\n",
      "\u001b[0;32m/opt/anaconda3/lib/python3.8/site-packages/pandas/core/tools/datetimes.py\u001b[0m in \u001b[0;36m_convert_listlike_datetimes\u001b[0;34m(arg, format, name, tz, unit, errors, infer_datetime_format, dayfirst, yearfirst, exact)\u001b[0m\n\u001b[1;32m    438\u001b[0m         \u001b[0;32massert\u001b[0m \u001b[0mformat\u001b[0m \u001b[0;32mis\u001b[0m \u001b[0;32mNone\u001b[0m \u001b[0;32mor\u001b[0m \u001b[0minfer_datetime_format\u001b[0m\u001b[0;34m\u001b[0m\u001b[0;34m\u001b[0m\u001b[0m\n\u001b[1;32m    439\u001b[0m         \u001b[0mutc\u001b[0m \u001b[0;34m=\u001b[0m \u001b[0mtz\u001b[0m \u001b[0;34m==\u001b[0m \u001b[0;34m\"utc\"\u001b[0m\u001b[0;34m\u001b[0m\u001b[0;34m\u001b[0m\u001b[0m\n\u001b[0;32m--> 440\u001b[0;31m         result, tz_parsed = objects_to_datetime64ns(\n\u001b[0m\u001b[1;32m    441\u001b[0m             \u001b[0marg\u001b[0m\u001b[0;34m,\u001b[0m\u001b[0;34m\u001b[0m\u001b[0;34m\u001b[0m\u001b[0m\n\u001b[1;32m    442\u001b[0m             \u001b[0mdayfirst\u001b[0m\u001b[0;34m=\u001b[0m\u001b[0mdayfirst\u001b[0m\u001b[0;34m,\u001b[0m\u001b[0;34m\u001b[0m\u001b[0;34m\u001b[0m\u001b[0m\n",
      "\u001b[0;32m/opt/anaconda3/lib/python3.8/site-packages/pandas/core/arrays/datetimes.py\u001b[0m in \u001b[0;36mobjects_to_datetime64ns\u001b[0;34m(data, dayfirst, yearfirst, utc, errors, require_iso8601, allow_object)\u001b[0m\n\u001b[1;32m   1861\u001b[0m             \u001b[0;32mreturn\u001b[0m \u001b[0mvalues\u001b[0m\u001b[0;34m.\u001b[0m\u001b[0mview\u001b[0m\u001b[0;34m(\u001b[0m\u001b[0;34m\"i8\"\u001b[0m\u001b[0;34m)\u001b[0m\u001b[0;34m,\u001b[0m \u001b[0mtz_parsed\u001b[0m\u001b[0;34m\u001b[0m\u001b[0;34m\u001b[0m\u001b[0m\n\u001b[1;32m   1862\u001b[0m         \u001b[0;32mexcept\u001b[0m \u001b[0;34m(\u001b[0m\u001b[0mValueError\u001b[0m\u001b[0;34m,\u001b[0m \u001b[0mTypeError\u001b[0m\u001b[0;34m)\u001b[0m\u001b[0;34m:\u001b[0m\u001b[0;34m\u001b[0m\u001b[0;34m\u001b[0m\u001b[0m\n\u001b[0;32m-> 1863\u001b[0;31m             \u001b[0;32mraise\u001b[0m \u001b[0me\u001b[0m\u001b[0;34m\u001b[0m\u001b[0;34m\u001b[0m\u001b[0m\n\u001b[0m\u001b[1;32m   1864\u001b[0m \u001b[0;34m\u001b[0m\u001b[0m\n\u001b[1;32m   1865\u001b[0m     \u001b[0;32mif\u001b[0m \u001b[0mtz_parsed\u001b[0m \u001b[0;32mis\u001b[0m \u001b[0;32mnot\u001b[0m \u001b[0;32mNone\u001b[0m\u001b[0;34m:\u001b[0m\u001b[0;34m\u001b[0m\u001b[0;34m\u001b[0m\u001b[0m\n",
      "\u001b[0;32m/opt/anaconda3/lib/python3.8/site-packages/pandas/core/arrays/datetimes.py\u001b[0m in \u001b[0;36mobjects_to_datetime64ns\u001b[0;34m(data, dayfirst, yearfirst, utc, errors, require_iso8601, allow_object)\u001b[0m\n\u001b[1;32m   1846\u001b[0m \u001b[0;34m\u001b[0m\u001b[0m\n\u001b[1;32m   1847\u001b[0m     \u001b[0;32mtry\u001b[0m\u001b[0;34m:\u001b[0m\u001b[0;34m\u001b[0m\u001b[0;34m\u001b[0m\u001b[0m\n\u001b[0;32m-> 1848\u001b[0;31m         result, tz_parsed = tslib.array_to_datetime(\n\u001b[0m\u001b[1;32m   1849\u001b[0m             \u001b[0mdata\u001b[0m\u001b[0;34m,\u001b[0m\u001b[0;34m\u001b[0m\u001b[0;34m\u001b[0m\u001b[0m\n\u001b[1;32m   1850\u001b[0m             \u001b[0merrors\u001b[0m\u001b[0;34m=\u001b[0m\u001b[0merrors\u001b[0m\u001b[0;34m,\u001b[0m\u001b[0;34m\u001b[0m\u001b[0;34m\u001b[0m\u001b[0m\n",
      "\u001b[0;32mpandas/_libs/tslib.pyx\u001b[0m in \u001b[0;36mpandas._libs.tslib.array_to_datetime\u001b[0;34m()\u001b[0m\n",
      "\u001b[0;32mpandas/_libs/tslib.pyx\u001b[0m in \u001b[0;36mpandas._libs.tslib.array_to_datetime\u001b[0;34m()\u001b[0m\n",
      "\u001b[0;32mpandas/_libs/tslib.pyx\u001b[0m in \u001b[0;36mpandas._libs.tslib.array_to_datetime_object\u001b[0;34m()\u001b[0m\n",
      "\u001b[0;32mpandas/_libs/tslib.pyx\u001b[0m in \u001b[0;36mpandas._libs.tslib.array_to_datetime_object\u001b[0;34m()\u001b[0m\n",
      "\u001b[0;32mpandas/_libs/tslibs/parsing.pyx\u001b[0m in \u001b[0;36mpandas._libs.tslibs.parsing.parse_datetime_string\u001b[0;34m()\u001b[0m\n",
      "\u001b[0;32m/opt/anaconda3/lib/python3.8/site-packages/dateutil/parser/_parser.py\u001b[0m in \u001b[0;36mparse\u001b[0;34m(timestr, parserinfo, **kwargs)\u001b[0m\n\u001b[1;32m   1372\u001b[0m         \u001b[0;32mreturn\u001b[0m \u001b[0mparser\u001b[0m\u001b[0;34m(\u001b[0m\u001b[0mparserinfo\u001b[0m\u001b[0;34m)\u001b[0m\u001b[0;34m.\u001b[0m\u001b[0mparse\u001b[0m\u001b[0;34m(\u001b[0m\u001b[0mtimestr\u001b[0m\u001b[0;34m,\u001b[0m \u001b[0;34m**\u001b[0m\u001b[0mkwargs\u001b[0m\u001b[0;34m)\u001b[0m\u001b[0;34m\u001b[0m\u001b[0;34m\u001b[0m\u001b[0m\n\u001b[1;32m   1373\u001b[0m     \u001b[0;32melse\u001b[0m\u001b[0;34m:\u001b[0m\u001b[0;34m\u001b[0m\u001b[0;34m\u001b[0m\u001b[0m\n\u001b[0;32m-> 1374\u001b[0;31m         \u001b[0;32mreturn\u001b[0m \u001b[0mDEFAULTPARSER\u001b[0m\u001b[0;34m.\u001b[0m\u001b[0mparse\u001b[0m\u001b[0;34m(\u001b[0m\u001b[0mtimestr\u001b[0m\u001b[0;34m,\u001b[0m \u001b[0;34m**\u001b[0m\u001b[0mkwargs\u001b[0m\u001b[0;34m)\u001b[0m\u001b[0;34m\u001b[0m\u001b[0;34m\u001b[0m\u001b[0m\n\u001b[0m\u001b[1;32m   1375\u001b[0m \u001b[0;34m\u001b[0m\u001b[0m\n\u001b[1;32m   1376\u001b[0m \u001b[0;34m\u001b[0m\u001b[0m\n",
      "\u001b[0;32m/opt/anaconda3/lib/python3.8/site-packages/dateutil/parser/_parser.py\u001b[0m in \u001b[0;36mparse\u001b[0;34m(self, timestr, default, ignoretz, tzinfos, **kwargs)\u001b[0m\n\u001b[1;32m    647\u001b[0m \u001b[0;34m\u001b[0m\u001b[0m\n\u001b[1;32m    648\u001b[0m         \u001b[0;32mif\u001b[0m \u001b[0mres\u001b[0m \u001b[0;32mis\u001b[0m \u001b[0;32mNone\u001b[0m\u001b[0;34m:\u001b[0m\u001b[0;34m\u001b[0m\u001b[0;34m\u001b[0m\u001b[0m\n\u001b[0;32m--> 649\u001b[0;31m             \u001b[0;32mraise\u001b[0m \u001b[0mParserError\u001b[0m\u001b[0;34m(\u001b[0m\u001b[0;34m\"Unknown string format: %s\"\u001b[0m\u001b[0;34m,\u001b[0m \u001b[0mtimestr\u001b[0m\u001b[0;34m)\u001b[0m\u001b[0;34m\u001b[0m\u001b[0;34m\u001b[0m\u001b[0m\n\u001b[0m\u001b[1;32m    650\u001b[0m \u001b[0;34m\u001b[0m\u001b[0m\n\u001b[1;32m    651\u001b[0m         \u001b[0;32mif\u001b[0m \u001b[0mlen\u001b[0m\u001b[0;34m(\u001b[0m\u001b[0mres\u001b[0m\u001b[0;34m)\u001b[0m \u001b[0;34m==\u001b[0m \u001b[0;36m0\u001b[0m\u001b[0;34m:\u001b[0m\u001b[0;34m\u001b[0m\u001b[0;34m\u001b[0m\u001b[0m\n",
      "\u001b[0;31mParserError\u001b[0m: Unknown string format: November 15 : 1985"
     ]
    }
   ],
   "source": [
    "date2 = pd.to_datetime(\"November 15 : 1985\")\n",
    "print('Output from \"November 15 : 1985\"     ', date2)"
   ]
  },
  {
   "cell_type": "markdown",
   "metadata": {},
   "source": [
    "`.to_datetime` is the method to take an input, interpret it and map it to the appropriate time and date (`Timestamp` in Pandas)."
   ]
  },
  {
   "cell_type": "markdown",
   "metadata": {},
   "source": [
    "---\n",
    "\n",
    "The `Timestamp` object is elevated in pandas into the `DatetimeIndex` object. The DatetimeIndex allows array-style operations, similar to those allowed by NumPay. \n",
    "\n",
    "For example, we can show 20 days starting on November 15 1985: "
   ]
  },
  {
   "cell_type": "code",
   "execution_count": 37,
   "metadata": {},
   "outputs": [
    {
     "data": {
      "text/plain": [
       "DatetimeIndex(['1985-11-15', '1985-11-16', '1985-11-17', '1985-11-18',\n",
       "               '1985-11-19', '1985-11-20', '1985-11-21', '1985-11-22',\n",
       "               '1985-11-23', '1985-11-24', '1985-11-25', '1985-11-26',\n",
       "               '1985-11-27', '1985-11-28', '1985-11-29', '1985-11-30',\n",
       "               '1985-12-01', '1985-12-02', '1985-12-03', '1985-12-04'],\n",
       "              dtype='datetime64[ns]', freq=None)"
      ]
     },
     "execution_count": 37,
     "metadata": {},
     "output_type": "execute_result"
    }
   ],
   "source": [
    "date + pd.to_timedelta(np.arange(20), 'D')"
   ]
  },
  {
   "cell_type": "markdown",
   "metadata": {},
   "source": [
    "Note how the `Timestamp` object `date` was changed into a `DatetimeIndex` by the above operation."
   ]
  },
  {
   "cell_type": "markdown",
   "metadata": {},
   "source": [
    "An operation similar to the above can also be implemented by accessing directly Pandas' functionality to manipulate dates. This is another way to create a range starting from a specific year-month-day:"
   ]
  },
  {
   "cell_type": "code",
   "execution_count": 38,
   "metadata": {},
   "outputs": [
    {
     "name": "stdout",
     "output_type": "stream",
     "text": [
      "DatetimeIndex(['1985-11-15', '1985-11-16', '1985-11-17', '1985-11-18',\n",
      "               '1985-11-19', '1985-11-20', '1985-11-21', '1985-11-22',\n",
      "               '1985-11-23', '1985-11-24', '1985-11-25', '1985-11-26',\n",
      "               '1985-11-27', '1985-11-28', '1985-11-29', '1985-11-30',\n",
      "               '1985-12-01', '1985-12-02', '1985-12-03', '1985-12-04'],\n",
      "              dtype='datetime64[ns]', freq='D')\n"
     ]
    }
   ],
   "source": [
    "dates = pd.date_range(\"19851115\", periods=20, freq='D')\n",
    "print(dates)"
   ]
  },
  {
   "cell_type": "markdown",
   "metadata": {},
   "source": [
    "A simple change allows performing the same operation across months:"
   ]
  },
  {
   "cell_type": "code",
   "execution_count": 39,
   "metadata": {},
   "outputs": [
    {
     "data": {
      "text/plain": [
       "DatetimeIndex(['1985-11-30', '1985-12-31', '1986-01-31', '1986-02-28',\n",
       "               '1986-03-31', '1986-04-30', '1986-05-31', '1986-06-30',\n",
       "               '1986-07-31', '1986-08-31', '1986-09-30', '1986-10-31',\n",
       "               '1986-11-30', '1986-12-31', '1987-01-31', '1987-02-28',\n",
       "               '1987-03-31', '1987-04-30', '1987-05-31', '1987-06-30'],\n",
       "              dtype='datetime64[ns]', freq='M')"
      ]
     },
     "execution_count": 39,
     "metadata": {},
     "output_type": "execute_result"
    }
   ],
   "source": [
    "dates = pd.date_range(\"19851115\", periods=20, freq='M')\n",
    "dates"
   ]
  },
  {
   "cell_type": "code",
   "execution_count": 40,
   "metadata": {},
   "outputs": [],
   "source": [
    "date + pd.to_timedelta(np.arange(20), 'D')\n",
    "df = pd.DataFrame(np.random.randn(np.squeeze(dates.shape), 4), \n",
    "                  index=dates, \n",
    "                  columns={\"Peace\", \"Love\", \"knowledge\", \"compassion\"})"
   ]
  },
  {
   "cell_type": "code",
   "execution_count": 41,
   "metadata": {},
   "outputs": [
    {
     "data": {
      "text/html": [
       "<div>\n",
       "<style scoped>\n",
       "    .dataframe tbody tr th:only-of-type {\n",
       "        vertical-align: middle;\n",
       "    }\n",
       "\n",
       "    .dataframe tbody tr th {\n",
       "        vertical-align: top;\n",
       "    }\n",
       "\n",
       "    .dataframe thead th {\n",
       "        text-align: right;\n",
       "    }\n",
       "</style>\n",
       "<table border=\"1\" class=\"dataframe\">\n",
       "  <thead>\n",
       "    <tr style=\"text-align: right;\">\n",
       "      <th></th>\n",
       "      <th>knowledge</th>\n",
       "      <th>Peace</th>\n",
       "      <th>compassion</th>\n",
       "      <th>Love</th>\n",
       "    </tr>\n",
       "  </thead>\n",
       "  <tbody>\n",
       "    <tr>\n",
       "      <th>1985-11-30</th>\n",
       "      <td>0.614195</td>\n",
       "      <td>0.995354</td>\n",
       "      <td>0.234175</td>\n",
       "      <td>0.829793</td>\n",
       "    </tr>\n",
       "    <tr>\n",
       "      <th>1985-12-31</th>\n",
       "      <td>0.102345</td>\n",
       "      <td>-0.188579</td>\n",
       "      <td>-1.273221</td>\n",
       "      <td>-0.503488</td>\n",
       "    </tr>\n",
       "    <tr>\n",
       "      <th>1986-01-31</th>\n",
       "      <td>0.109947</td>\n",
       "      <td>-0.047645</td>\n",
       "      <td>-0.826693</td>\n",
       "      <td>-0.251602</td>\n",
       "    </tr>\n",
       "    <tr>\n",
       "      <th>1986-02-28</th>\n",
       "      <td>-1.926201</td>\n",
       "      <td>-1.666472</td>\n",
       "      <td>0.146345</td>\n",
       "      <td>0.585042</td>\n",
       "    </tr>\n",
       "    <tr>\n",
       "      <th>1986-03-31</th>\n",
       "      <td>1.407220</td>\n",
       "      <td>0.324538</td>\n",
       "      <td>-1.395750</td>\n",
       "      <td>1.032753</td>\n",
       "    </tr>\n",
       "    <tr>\n",
       "      <th>1986-04-30</th>\n",
       "      <td>1.104711</td>\n",
       "      <td>1.479273</td>\n",
       "      <td>-0.889540</td>\n",
       "      <td>1.213784</td>\n",
       "    </tr>\n",
       "    <tr>\n",
       "      <th>1986-05-31</th>\n",
       "      <td>1.590216</td>\n",
       "      <td>-0.701385</td>\n",
       "      <td>0.127058</td>\n",
       "      <td>0.227383</td>\n",
       "    </tr>\n",
       "    <tr>\n",
       "      <th>1986-06-30</th>\n",
       "      <td>0.285760</td>\n",
       "      <td>-0.145475</td>\n",
       "      <td>-0.112166</td>\n",
       "      <td>2.149929</td>\n",
       "    </tr>\n",
       "    <tr>\n",
       "      <th>1986-07-31</th>\n",
       "      <td>1.516930</td>\n",
       "      <td>0.242891</td>\n",
       "      <td>1.208836</td>\n",
       "      <td>0.414442</td>\n",
       "    </tr>\n",
       "    <tr>\n",
       "      <th>1986-08-31</th>\n",
       "      <td>1.248030</td>\n",
       "      <td>0.712717</td>\n",
       "      <td>0.655917</td>\n",
       "      <td>0.953563</td>\n",
       "    </tr>\n",
       "    <tr>\n",
       "      <th>1986-09-30</th>\n",
       "      <td>1.130147</td>\n",
       "      <td>-0.300266</td>\n",
       "      <td>-0.514166</td>\n",
       "      <td>-0.332286</td>\n",
       "    </tr>\n",
       "    <tr>\n",
       "      <th>1986-10-31</th>\n",
       "      <td>-0.462102</td>\n",
       "      <td>-0.389099</td>\n",
       "      <td>-0.633353</td>\n",
       "      <td>-0.662009</td>\n",
       "    </tr>\n",
       "    <tr>\n",
       "      <th>1986-11-30</th>\n",
       "      <td>-1.227619</td>\n",
       "      <td>1.160200</td>\n",
       "      <td>-1.507403</td>\n",
       "      <td>-1.218829</td>\n",
       "    </tr>\n",
       "    <tr>\n",
       "      <th>1986-12-31</th>\n",
       "      <td>0.345011</td>\n",
       "      <td>1.353441</td>\n",
       "      <td>0.335997</td>\n",
       "      <td>-1.305376</td>\n",
       "    </tr>\n",
       "    <tr>\n",
       "      <th>1987-01-31</th>\n",
       "      <td>-1.136733</td>\n",
       "      <td>1.507108</td>\n",
       "      <td>0.245051</td>\n",
       "      <td>-0.686787</td>\n",
       "    </tr>\n",
       "    <tr>\n",
       "      <th>1987-02-28</th>\n",
       "      <td>-0.066142</td>\n",
       "      <td>0.334927</td>\n",
       "      <td>1.638778</td>\n",
       "      <td>0.479640</td>\n",
       "    </tr>\n",
       "    <tr>\n",
       "      <th>1987-03-31</th>\n",
       "      <td>-2.435825</td>\n",
       "      <td>1.435333</td>\n",
       "      <td>0.180286</td>\n",
       "      <td>0.881502</td>\n",
       "    </tr>\n",
       "    <tr>\n",
       "      <th>1987-04-30</th>\n",
       "      <td>1.805484</td>\n",
       "      <td>-0.089681</td>\n",
       "      <td>-0.115900</td>\n",
       "      <td>0.198687</td>\n",
       "    </tr>\n",
       "    <tr>\n",
       "      <th>1987-05-31</th>\n",
       "      <td>-2.176920</td>\n",
       "      <td>-0.349833</td>\n",
       "      <td>0.606637</td>\n",
       "      <td>-0.114818</td>\n",
       "    </tr>\n",
       "    <tr>\n",
       "      <th>1987-06-30</th>\n",
       "      <td>1.237559</td>\n",
       "      <td>-1.982516</td>\n",
       "      <td>-1.063814</td>\n",
       "      <td>1.137630</td>\n",
       "    </tr>\n",
       "  </tbody>\n",
       "</table>\n",
       "</div>"
      ],
      "text/plain": [
       "            knowledge     Peace  compassion      Love\n",
       "1985-11-30   0.614195  0.995354    0.234175  0.829793\n",
       "1985-12-31   0.102345 -0.188579   -1.273221 -0.503488\n",
       "1986-01-31   0.109947 -0.047645   -0.826693 -0.251602\n",
       "1986-02-28  -1.926201 -1.666472    0.146345  0.585042\n",
       "1986-03-31   1.407220  0.324538   -1.395750  1.032753\n",
       "1986-04-30   1.104711  1.479273   -0.889540  1.213784\n",
       "1986-05-31   1.590216 -0.701385    0.127058  0.227383\n",
       "1986-06-30   0.285760 -0.145475   -0.112166  2.149929\n",
       "1986-07-31   1.516930  0.242891    1.208836  0.414442\n",
       "1986-08-31   1.248030  0.712717    0.655917  0.953563\n",
       "1986-09-30   1.130147 -0.300266   -0.514166 -0.332286\n",
       "1986-10-31  -0.462102 -0.389099   -0.633353 -0.662009\n",
       "1986-11-30  -1.227619  1.160200   -1.507403 -1.218829\n",
       "1986-12-31   0.345011  1.353441    0.335997 -1.305376\n",
       "1987-01-31  -1.136733  1.507108    0.245051 -0.686787\n",
       "1987-02-28  -0.066142  0.334927    1.638778  0.479640\n",
       "1987-03-31  -2.435825  1.435333    0.180286  0.881502\n",
       "1987-04-30   1.805484 -0.089681   -0.115900  0.198687\n",
       "1987-05-31  -2.176920 -0.349833    0.606637 -0.114818\n",
       "1987-06-30   1.237559 -1.982516   -1.063814  1.137630"
      ]
     },
     "execution_count": 41,
     "metadata": {},
     "output_type": "execute_result"
    }
   ],
   "source": [
    "df"
   ]
  },
  {
   "cell_type": "markdown",
   "metadata": {},
   "source": [
    "$\\color{blue}{\\text{Complete the following exercise.}}$\n",
    "\n",
    " - Create a dataframe that has your life in months (or years) as index and as columns\n",
    "   - Your happinness rating per month or year. Scale 0-5 where 5 is happiest.\n",
    "   - Your luck score per month or year. Scale 0-5 where 5 is happiest.\n",
    "   - Your Pet's favourite song per month or year."
   ]
  },
  {
   "cell_type": "code",
   "execution_count": 44,
   "metadata": {},
   "outputs": [
    {
     "data": {
      "text/html": [
       "<div>\n",
       "<style scoped>\n",
       "    .dataframe tbody tr th:only-of-type {\n",
       "        vertical-align: middle;\n",
       "    }\n",
       "\n",
       "    .dataframe tbody tr th {\n",
       "        vertical-align: top;\n",
       "    }\n",
       "\n",
       "    .dataframe thead th {\n",
       "        text-align: right;\n",
       "    }\n",
       "</style>\n",
       "<table border=\"1\" class=\"dataframe\">\n",
       "  <thead>\n",
       "    <tr style=\"text-align: right;\">\n",
       "      <th></th>\n",
       "      <th>Luck</th>\n",
       "      <th>Emmys song of month</th>\n",
       "      <th>Emmys song of year</th>\n",
       "      <th>Happiness</th>\n",
       "    </tr>\n",
       "  </thead>\n",
       "  <tbody>\n",
       "    <tr>\n",
       "      <th>1998-08-31</th>\n",
       "      <td>-0.957546</td>\n",
       "      <td>-1.002700</td>\n",
       "      <td>-0.862297</td>\n",
       "      <td>-1.173392</td>\n",
       "    </tr>\n",
       "    <tr>\n",
       "      <th>1998-09-30</th>\n",
       "      <td>-0.460474</td>\n",
       "      <td>-0.229412</td>\n",
       "      <td>1.123467</td>\n",
       "      <td>-0.507520</td>\n",
       "    </tr>\n",
       "    <tr>\n",
       "      <th>1998-10-31</th>\n",
       "      <td>0.117917</td>\n",
       "      <td>-1.705869</td>\n",
       "      <td>-0.466036</td>\n",
       "      <td>0.072944</td>\n",
       "    </tr>\n",
       "    <tr>\n",
       "      <th>1998-11-30</th>\n",
       "      <td>0.525538</td>\n",
       "      <td>0.755314</td>\n",
       "      <td>0.183328</td>\n",
       "      <td>-0.500799</td>\n",
       "    </tr>\n",
       "    <tr>\n",
       "      <th>1998-12-31</th>\n",
       "      <td>0.438609</td>\n",
       "      <td>-1.260261</td>\n",
       "      <td>-1.650337</td>\n",
       "      <td>-0.169596</td>\n",
       "    </tr>\n",
       "    <tr>\n",
       "      <th>1999-01-31</th>\n",
       "      <td>-1.602068</td>\n",
       "      <td>2.689090</td>\n",
       "      <td>-0.520524</td>\n",
       "      <td>0.502436</td>\n",
       "    </tr>\n",
       "    <tr>\n",
       "      <th>1999-02-28</th>\n",
       "      <td>-0.981596</td>\n",
       "      <td>-1.563517</td>\n",
       "      <td>1.259938</td>\n",
       "      <td>-0.713383</td>\n",
       "    </tr>\n",
       "    <tr>\n",
       "      <th>1999-03-31</th>\n",
       "      <td>1.317042</td>\n",
       "      <td>-0.580637</td>\n",
       "      <td>-0.728451</td>\n",
       "      <td>-0.338352</td>\n",
       "    </tr>\n",
       "    <tr>\n",
       "      <th>1999-04-30</th>\n",
       "      <td>-0.378184</td>\n",
       "      <td>0.195953</td>\n",
       "      <td>0.593115</td>\n",
       "      <td>0.945596</td>\n",
       "    </tr>\n",
       "    <tr>\n",
       "      <th>1999-05-31</th>\n",
       "      <td>-0.723456</td>\n",
       "      <td>0.980755</td>\n",
       "      <td>-0.748619</td>\n",
       "      <td>1.386522</td>\n",
       "    </tr>\n",
       "    <tr>\n",
       "      <th>1999-06-30</th>\n",
       "      <td>-0.501134</td>\n",
       "      <td>-0.796993</td>\n",
       "      <td>0.380300</td>\n",
       "      <td>-0.953350</td>\n",
       "    </tr>\n",
       "    <tr>\n",
       "      <th>1999-07-31</th>\n",
       "      <td>-1.198314</td>\n",
       "      <td>-0.261016</td>\n",
       "      <td>0.778641</td>\n",
       "      <td>-0.913395</td>\n",
       "    </tr>\n",
       "    <tr>\n",
       "      <th>1999-08-31</th>\n",
       "      <td>-0.576944</td>\n",
       "      <td>2.149529</td>\n",
       "      <td>0.612854</td>\n",
       "      <td>-1.242196</td>\n",
       "    </tr>\n",
       "    <tr>\n",
       "      <th>1999-09-30</th>\n",
       "      <td>-0.649056</td>\n",
       "      <td>1.104703</td>\n",
       "      <td>-0.623094</td>\n",
       "      <td>-1.611572</td>\n",
       "    </tr>\n",
       "    <tr>\n",
       "      <th>1999-10-31</th>\n",
       "      <td>2.056448</td>\n",
       "      <td>-0.061560</td>\n",
       "      <td>-0.034157</td>\n",
       "      <td>-0.205000</td>\n",
       "    </tr>\n",
       "    <tr>\n",
       "      <th>1999-11-30</th>\n",
       "      <td>0.378531</td>\n",
       "      <td>-0.564283</td>\n",
       "      <td>-0.191297</td>\n",
       "      <td>2.038983</td>\n",
       "    </tr>\n",
       "    <tr>\n",
       "      <th>1999-12-31</th>\n",
       "      <td>0.217342</td>\n",
       "      <td>1.139015</td>\n",
       "      <td>-1.019575</td>\n",
       "      <td>1.341880</td>\n",
       "    </tr>\n",
       "    <tr>\n",
       "      <th>2000-01-31</th>\n",
       "      <td>-0.108216</td>\n",
       "      <td>0.123084</td>\n",
       "      <td>1.459337</td>\n",
       "      <td>0.873394</td>\n",
       "    </tr>\n",
       "    <tr>\n",
       "      <th>2000-02-29</th>\n",
       "      <td>0.483718</td>\n",
       "      <td>0.196171</td>\n",
       "      <td>-0.263937</td>\n",
       "      <td>0.901313</td>\n",
       "    </tr>\n",
       "    <tr>\n",
       "      <th>2000-03-31</th>\n",
       "      <td>0.283607</td>\n",
       "      <td>0.895561</td>\n",
       "      <td>0.369757</td>\n",
       "      <td>-1.028194</td>\n",
       "    </tr>\n",
       "  </tbody>\n",
       "</table>\n",
       "</div>"
      ],
      "text/plain": [
       "                Luck  Emmys song of month  Emmys song of year  Happiness\n",
       "1998-08-31 -0.957546            -1.002700           -0.862297  -1.173392\n",
       "1998-09-30 -0.460474            -0.229412            1.123467  -0.507520\n",
       "1998-10-31  0.117917            -1.705869           -0.466036   0.072944\n",
       "1998-11-30  0.525538             0.755314            0.183328  -0.500799\n",
       "1998-12-31  0.438609            -1.260261           -1.650337  -0.169596\n",
       "1999-01-31 -1.602068             2.689090           -0.520524   0.502436\n",
       "1999-02-28 -0.981596            -1.563517            1.259938  -0.713383\n",
       "1999-03-31  1.317042            -0.580637           -0.728451  -0.338352\n",
       "1999-04-30 -0.378184             0.195953            0.593115   0.945596\n",
       "1999-05-31 -0.723456             0.980755           -0.748619   1.386522\n",
       "1999-06-30 -0.501134            -0.796993            0.380300  -0.953350\n",
       "1999-07-31 -1.198314            -0.261016            0.778641  -0.913395\n",
       "1999-08-31 -0.576944             2.149529            0.612854  -1.242196\n",
       "1999-09-30 -0.649056             1.104703           -0.623094  -1.611572\n",
       "1999-10-31  2.056448            -0.061560           -0.034157  -0.205000\n",
       "1999-11-30  0.378531            -0.564283           -0.191297   2.038983\n",
       "1999-12-31  0.217342             1.139015           -1.019575   1.341880\n",
       "2000-01-31 -0.108216             0.123084            1.459337   0.873394\n",
       "2000-02-29  0.483718             0.196171           -0.263937   0.901313\n",
       "2000-03-31  0.283607             0.895561            0.369757  -1.028194"
      ]
     },
     "execution_count": 44,
     "metadata": {},
     "output_type": "execute_result"
    }
   ],
   "source": [
    "my_birthday = pd.to_datetime(\"August 6, 1998\")\n",
    "bdates = pd.date_range(\"19980806\", periods=20, freq='M')\n",
    "\n",
    "df = pd.DataFrame(np.random.randn(np.squeeze(dates.shape), 4), \n",
    "                  index=bdates, \n",
    "                  columns={\"Happiness\", \"Luck\", \"Emmys song of month\", \"Emmys song of year\"})\n",
    "df"
   ]
  },
  {
   "cell_type": "markdown",
   "metadata": {},
   "source": [
    "---\n",
    "\n",
    "### Manipulating Pandas' Time Series"
   ]
  },
  {
   "cell_type": "markdown",
   "metadata": {},
   "source": [
    "We have learned before that Pandas Series and DataFrame objects allow sotring data and are indexed. Indices become extremely helpful when we start dealing with Time Series."
   ]
  },
  {
   "cell_type": "markdown",
   "metadata": {},
   "source": [
    "---\n",
    "\n",
    "For example we can initialize a Pandas `index` object by using a Pandas `DatetimeIndex` object. The latter can be the used to label a series. Let's take a look.\n",
    "\n",
    "We will first create a range of dates and use them as indeces to a Series:"
   ]
  },
  {
   "cell_type": "code",
   "execution_count": 45,
   "metadata": {},
   "outputs": [
    {
     "data": {
      "text/plain": [
       "1985-12-31    0\n",
       "1986-12-31    1\n",
       "1987-12-31    2\n",
       "1988-12-31    3\n",
       "1989-12-31    4\n",
       "1990-12-31    5\n",
       "Freq: A-DEC, dtype: int64"
      ]
     },
     "execution_count": 45,
     "metadata": {},
     "output_type": "execute_result"
    }
   ],
   "source": [
    "index   = pd.date_range(\"19851115\", periods=6, freq='Y')\n",
    "data    = [0, 1, 2, 3, 4, 5]\n",
    "\n",
    "dseries = pd.Series(data, index=index)\n",
    "dseries"
   ]
  },
  {
   "cell_type": "markdown",
   "metadata": {},
   "source": [
    "The above dseries is a Padas Series object with a frequency in years ('Y', aligned to december). The labels (or indices) are dates and the data are just numbers between 0 and 5.\n",
    "\n",
    "Just like any label or index we can use the data indices to address the Pandas Series. For example, we can find the a subset of four entries:"
   ]
  },
  {
   "cell_type": "code",
   "execution_count": 46,
   "metadata": {},
   "outputs": [
    {
     "data": {
      "text/plain": [
       "1986-12-31    1\n",
       "1987-12-31    2\n",
       "1988-12-31    3\n",
       "1989-12-31    4\n",
       "Freq: A-DEC, dtype: int64"
      ]
     },
     "execution_count": 46,
     "metadata": {},
     "output_type": "execute_result"
    }
   ],
   "source": [
    "dseries['1986-12-31':'1989-12-31']"
   ]
  },
  {
   "cell_type": "markdown",
   "metadata": {},
   "source": [
    "Also Pandas allows indexing Series by leading trails of the labels. For example, the year can be used as index – without need to specify the rest of the date:"
   ]
  },
  {
   "cell_type": "code",
   "execution_count": 47,
   "metadata": {},
   "outputs": [
    {
     "data": {
      "text/plain": [
       "1985-12-31    0\n",
       "Freq: A-DEC, dtype: int64"
      ]
     },
     "execution_count": 47,
     "metadata": {},
     "output_type": "execute_result"
    }
   ],
   "source": [
    "dseries['1985']"
   ]
  },
  {
   "cell_type": "markdown",
   "metadata": {},
   "source": [
    "This operation would have worked also if the dates had been different (not all matching December 31).\n",
    "\n",
    "---"
   ]
  },
  {
   "cell_type": "markdown",
   "metadata": {},
   "source": [
    "In sum, in this tutorial we have provided an overview of some of the functionality that Python, NumPy and Pandas offer to manipulate time series, and date, time objects. Tutorial with more advanced functionality for manipulating and platting time series."
   ]
  },
  {
   "cell_type": "markdown",
   "metadata": {},
   "source": [
    "---\n",
    "\n",
    "$\\color{blue}{\\text{Complete the following exercise.}}$\n",
    "\n",
    "Create a Pandas DataFrame (hah!) that uses dates as indices and stores data about three variables: \n",
    "\n",
    "1. Mental health; \n",
    "2. Quality of life; and \n",
    "3. Heart rate. \n",
    "\n",
    "The measurements were taken in a single subject between May 19, 1985 and June 16, 1995 at a monthly rate. "
   ]
  },
  {
   "cell_type": "code",
   "execution_count": 48,
   "metadata": {},
   "outputs": [
    {
     "data": {
      "text/plain": [
       "DatetimeIndex(['1985-05-08', '1985-06-08', '1985-07-08', '1985-08-08',\n",
       "               '1985-09-08', '1985-10-08', '1985-11-08', '1985-12-08',\n",
       "               '1986-01-08', '1986-02-08',\n",
       "               ...\n",
       "               '1994-09-08', '1994-10-08', '1994-11-08', '1994-12-08',\n",
       "               '1995-01-08', '1995-02-08', '1995-03-08', '1995-04-08',\n",
       "               '1995-05-08', '1995-06-08'],\n",
       "              dtype='datetime64[ns]', length=122, freq=None)"
      ]
     },
     "execution_count": 48,
     "metadata": {},
     "output_type": "execute_result"
    }
   ],
   "source": [
    "start = \"1985-05-10\"\n",
    "end = \"1995-06-16\"\n",
    "dates = pd.date_range(start[:7], end,freq='MS') + pd.DateOffset(days=7)\n",
    "dates"
   ]
  },
  {
   "cell_type": "code",
   "execution_count": 49,
   "metadata": {},
   "outputs": [
    {
     "data": {
      "text/plain": [
       "DatetimeIndex(['1995-06-16'], dtype='datetime64[ns]', freq=None)"
      ]
     },
     "execution_count": 49,
     "metadata": {},
     "output_type": "execute_result"
    }
   ],
   "source": [
    "date2add = pd.DatetimeIndex([\"1995-06-16\"])\n",
    "date2add"
   ]
  },
  {
   "cell_type": "code",
   "execution_count": 50,
   "metadata": {},
   "outputs": [
    {
     "data": {
      "text/plain": [
       "DatetimeIndex(['1985-05-08', '1985-06-08', '1985-07-08', '1985-08-08',\n",
       "               '1985-09-08', '1985-10-08', '1985-11-08', '1985-12-08',\n",
       "               '1986-01-08', '1986-02-08',\n",
       "               ...\n",
       "               '1994-10-08', '1994-11-08', '1994-12-08', '1995-01-08',\n",
       "               '1995-02-08', '1995-03-08', '1995-04-08', '1995-05-08',\n",
       "               '1995-06-08', '1995-06-16'],\n",
       "              dtype='datetime64[ns]', length=123, freq=None)"
      ]
     },
     "execution_count": 50,
     "metadata": {},
     "output_type": "execute_result"
    }
   ],
   "source": [
    "dates = dates.append(date2add)\n",
    "dates"
   ]
  },
  {
   "cell_type": "code",
   "execution_count": null,
   "metadata": {},
   "outputs": [],
   "source": []
  }
 ],
 "metadata": {
  "kernelspec": {
   "display_name": "Python 3",
   "language": "python",
   "name": "python3"
  },
  "language_info": {
   "codemirror_mode": {
    "name": "ipython",
    "version": 3
   },
   "file_extension": ".py",
   "mimetype": "text/x-python",
   "name": "python",
   "nbconvert_exporter": "python",
   "pygments_lexer": "ipython3",
   "version": "3.8.3"
  }
 },
 "nbformat": 4,
 "nbformat_minor": 5
}
